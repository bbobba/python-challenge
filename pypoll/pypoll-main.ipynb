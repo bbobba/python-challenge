{
 "cells": [
  {
   "cell_type": "markdown",
   "metadata": {},
   "source": [
    "# PYTHON CHALLENGE: PyPoll\n",
    "\n",
    "### Overview\n",
    "\n",
    "#### Goal:\n",
    "Python script for analyzing poll data. The analysis will help a small, rural town modernize its vote-counting process. The final analysis calculates:\n",
    "\n",
    "1. The total number of votes cast\n",
    "2. A complete list of candidates who received votes\n",
    "3. The percentage of votes each candidate won\n",
    "4. The total number of votes each candidate won\n",
    "5. The winner of the election based on popular vote.\n",
    "\n",
    "\n",
    "#### Deliverables / Output:\n",
    "* Print the analysis to the terminal\n",
    "* Export a text file with the results\n",
    "\n",
    "#### Dataset:\n",
    "* A set of poll data stored in a csv called election_data.csv. The dataset is composed of three columns: 'Voter ID', 'County', and 'Candidate'.\n",
    "\n",
    "#### Documentation:\n",
    "* **csv_path** = csv file path for data set (update this path if the name and/or location of the data set changes)\n",
    "\n",
    "* **output_file** = text file path for final analysis (update this path according to the desired name and location of the new text file)\n",
    "\n",
    "* **total_votes** = total number of votes cast\n",
    "\n",
    "* **<>** = <>\n",
    "\n",
    "* **<>** = <>\n",
    "\n",
    "* **<>** = <>\n",
    "\n",
    "#### Assumptions:\n",
    "* No duplicate voter id's exist\n",
    "\n",
    "\n"
   ]
  },
  {
   "cell_type": "markdown",
   "metadata": {},
   "source": [
    "# Setup"
   ]
  },
  {
   "cell_type": "code",
   "execution_count": 1,
   "metadata": {},
   "outputs": [],
   "source": [
    "# Import the necessary dependencies for os.path.join()\n",
    "import os\n",
    "import csv\n",
    "\n",
    "# Set csv path for data file and store in a variable\n",
    "csv_path = os.path.join('data','election_data.csv')\n",
    "\n",
    "# Set txt path for output file and store in a variable\n",
    "output_file = os.path.join('election_analysis.txt')\n"
   ]
  },
  {
   "cell_type": "markdown",
   "metadata": {},
   "source": [
    "# Analysis"
   ]
  },
  {
   "cell_type": "code",
   "execution_count": 2,
   "metadata": {},
   "outputs": [],
   "source": [
    "# Create empty lists\n",
    "voter_id = []\n",
    "\n",
    " \n",
    "# Open and read the csv file\n",
    "with open(csv_path, newline='') as csv_file:\n",
    "\n",
    "     # Store contents in a variable called csv_reader\n",
    "    csv_reader = csv.reader(csv_file, delimiter=',') \n",
    "\n",
    "    # Skip header\n",
    "    next(csv_reader)\n",
    "\n",
    "    # Iterate through the rows\n",
    "    for row in csv_reader:\n",
    "        # Append\n",
    "        voter_id.append(row[0])\n",
    "    \n",
    "#     # View contents\n",
    "#     for rows in csv_reader:\n",
    "#         print(rows)"
   ]
  },
  {
   "cell_type": "markdown",
   "metadata": {},
   "source": [
    "### 1. The total number of votes cast"
   ]
  },
  {
   "cell_type": "code",
   "execution_count": 3,
   "metadata": {},
   "outputs": [
    {
     "name": "stdout",
     "output_type": "stream",
     "text": [
      "Total Votes: 3521001\n"
     ]
    }
   ],
   "source": [
    "# Total Votes: 3521001\n",
    "\n",
    "# YOUR CODE HERE\n",
    "\n",
    "\n",
    "total_votes = len(voter_id)\n",
    "\n",
    "# TEST PRINT HERE\n",
    "print(f'Total Votes: {total_votes}')"
   ]
  },
  {
   "cell_type": "markdown",
   "metadata": {},
   "source": [
    "### 2. A complete list of candidates who received votes"
   ]
  },
  {
   "cell_type": "code",
   "execution_count": 5,
   "metadata": {},
   "outputs": [
    {
     "ename": "NameError",
     "evalue": "name 'candidates' is not defined",
     "output_type": "error",
     "traceback": [
      "\u001b[0;31m---------------------------------------------------------------------------\u001b[0m",
      "\u001b[0;31mNameError\u001b[0m                                 Traceback (most recent call last)",
      "\u001b[0;32m<ipython-input-5-d3cb2501e8c8>\u001b[0m in \u001b[0;36m<module>\u001b[0;34m\u001b[0m\n\u001b[1;32m      5\u001b[0m \u001b[0;34m\u001b[0m\u001b[0m\n\u001b[1;32m      6\u001b[0m \u001b[0;31m# YOUR CODE HERE\u001b[0m\u001b[0;34m\u001b[0m\u001b[0;34m\u001b[0m\u001b[0;34m\u001b[0m\u001b[0m\n\u001b[0;32m----> 7\u001b[0;31m \u001b[0;32mfor\u001b[0m \u001b[0mcandidate\u001b[0m \u001b[0;32min\u001b[0m \u001b[0mcandidates\u001b[0m\u001b[0;34m:\u001b[0m\u001b[0;34m\u001b[0m\u001b[0;34m\u001b[0m\u001b[0m\n\u001b[0m\u001b[1;32m      8\u001b[0m     \u001b[0mprint\u001b[0m\u001b[0;34m(\u001b[0m\u001b[0mcandidate\u001b[0m\u001b[0;34m)\u001b[0m\u001b[0;34m\u001b[0m\u001b[0;34m\u001b[0m\u001b[0m\n\u001b[1;32m      9\u001b[0m \u001b[0;34m\u001b[0m\u001b[0m\n",
      "\u001b[0;31mNameError\u001b[0m: name 'candidates' is not defined"
     ]
    }
   ],
   "source": [
    "# Khan: 63.000% (2218231)\n",
    "# Correy: 20.000% (704200)\n",
    "# Li: 14.000% (492940)\n",
    "# O'Tooley: 3.000% (105630)\n",
    "\n",
    "# YOUR CODE HERE\n",
    "for candidate in candidates:\n",
    "    print(candidate)\n",
    "\n",
    "# TEST PRINT HERE\n",
    "# print(f'')"
   ]
  },
  {
   "cell_type": "markdown",
   "metadata": {},
   "source": [
    "### 3. The percentage of votes each candidate won"
   ]
  },
  {
   "cell_type": "code",
   "execution_count": null,
   "metadata": {},
   "outputs": [],
   "source": [
    "# Khan: 63.000% (2218231)\n",
    "# Correy: 20.000% (704200)\n",
    "# Li: 14.000% (492940)\n",
    "# O'Tooley: 3.000% (105630)\n",
    "\n",
    "# YOUR CODE HERE\n",
    "\n",
    "# TEST PRINT HERE\n",
    "# print(f'')"
   ]
  },
  {
   "cell_type": "markdown",
   "metadata": {},
   "source": [
    "### 4. The total number of votes each candidate won"
   ]
  },
  {
   "cell_type": "code",
   "execution_count": null,
   "metadata": {},
   "outputs": [],
   "source": [
    "# Khan: 63.000% (2218231)\n",
    "# Correy: 20.000% (704200)\n",
    "# Li: 14.000% (492940)\n",
    "# O'Tooley: 3.000% (105630)\n",
    "\n",
    "# YOUR CODE HERE\n",
    "\n",
    "# TEST PRINT HERE\n",
    "# print(f'')"
   ]
  },
  {
   "cell_type": "markdown",
   "metadata": {},
   "source": [
    "### 5. The winner of the election based on popular vote."
   ]
  },
  {
   "cell_type": "code",
   "execution_count": null,
   "metadata": {},
   "outputs": [],
   "source": [
    "# Winner: Khan\n",
    "\n",
    "# YOUR CODE HERE\n",
    "\n",
    "# TEST PRINT HERE\n",
    "# print(f'')"
   ]
  },
  {
   "cell_type": "markdown",
   "metadata": {},
   "source": [
    "# Output"
   ]
  },
  {
   "cell_type": "code",
   "execution_count": null,
   "metadata": {},
   "outputs": [],
   "source": [
    "# Summarize the results and store in a variable called election_summary\n",
    "\n",
    "election_summary = (f'\\n\\\n",
    "    Election Results\\n\\\n",
    "    ----------------------------\\n\\\n",
    "    Total Votes: {total_votes}\\n\\\n",
    "    ----------------------------\\n\\\n",
    "    {}: {}% ({})\\n\\\n",
    "    {}: {}% ({})\\n\\\n",
    "    {}: {}% ({})\\n\\\n",
    "    {}: {}% ({})\\n\\\n",
    "    ----------------------------\\n\\\n",
    "    Winner: {}\n",
    "    ----------------------------\\n\\')\n",
    "\n",
    "# Election Results\n",
    "# -------------------------\n",
    "# Total Votes: 3521001\n",
    "# -------------------------\n",
    "# Khan: 63.000% (2218231)\n",
    "# Correy: 20.000% (704200)\n",
    "# Li: 14.000% (492940)\n",
    "# O'Tooley: 3.000% (105630)\n",
    "# -------------------------\n",
    "# Winner: Khan\n",
    "# -------------------------"
   ]
  },
  {
   "cell_type": "code",
   "execution_count": null,
   "metadata": {},
   "outputs": [],
   "source": [
    "# Print the analysis to the terminal\n",
    "print(election_summary)"
   ]
  },
  {
   "cell_type": "code",
   "execution_count": null,
   "metadata": {},
   "outputs": [],
   "source": [
    "# Export the analysis in a text file\n",
    "with open(output_file,'w') as txt_file:\n",
    "    txt_file.write(election_summary)"
   ]
  }
 ],
 "metadata": {
  "kernelspec": {
   "display_name": "Python 3",
   "language": "python",
   "name": "python3"
  },
  "language_info": {
   "codemirror_mode": {
    "name": "ipython",
    "version": 3
   },
   "file_extension": ".py",
   "mimetype": "text/x-python",
   "name": "python",
   "nbconvert_exporter": "python",
   "pygments_lexer": "ipython3",
   "version": "3.6.7"
  }
 },
 "nbformat": 4,
 "nbformat_minor": 2
}
