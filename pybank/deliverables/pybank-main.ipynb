{
 "cells": [
  {
   "cell_type": "markdown",
   "metadata": {},
   "source": [
    "# PYTHON CHALLENGE: PyBank\n",
    "\n",
    "Goal:\n",
    "Create a Python script for analyzing company financial records.\n",
    " \n",
    "Dataset:\n",
    "Company financial data stored in a csv called budget_data.csv.\n",
    "The dataset includes two columns: 'Date' and 'Profit/Losses' \n",
    "\n",
    "Calculate:\n",
    "1. The total number of months included in the dataset\n",
    "2. The total net amount of \"Profit/Losses\" over the entire period\n",
    "3. The average change in \"Profit/Losses\" between months over the entire period\n",
    "4. The greatest increase in profits (date and amount) over the entire period\n",
    "5. The greatest decrease in losses (date and amount) over the entire period\n",
    "\n",
    "Deliverables:\n",
    "* Print the analysis to the terminal\n",
    "* Export a text file with the results\n",
    "\n",
    "Documentation:\n",
    "* **csv_path** = csv file path for data set (update this path if the name and/or location of the data set changes)\n",
    "\n",
    "* **budget_analysis** = text file path for final analysis deliverable (update this path according to the desired name and location of the new text file deliverable) ** *NOTE: rename output_file ... output_path.... etc?* **\n",
    "\n",
    "* **total_months** = the total number of months included in the dataset\n",
    "\n",
    "* **net_profit** = the total net amount of \"Profit/Losses\" over the entire period\n",
    "\n",
    "* **average_change** = the average change in \"Profit/Losses\" between months over the entire period\n",
    "\n",
    "* **<greatest_increase>** = the greatest increase in profits (date and amount) over the entire period\n",
    "\n",
    "* **<greatest_decrease>** = the greatest decrease in losses (date) over the entire period\n",
    "\n",
    "* **budget_summary** = summary of results to be printed to the terminal and exported in a text file\n"
   ]
  },
  {
   "cell_type": "markdown",
   "metadata": {},
   "source": [
    "# TA Q's (working list):\n",
    "**DELETE SECTION BEFORE SUBMISSION**\n",
    "* sort by month chronologically? to ensure accuracy of monthly_change\n",
    "* change monthly to dates in variable names?\n",
    "\n",
    "**TIPS & SHORTCUTS:\n",
    "* add # to mult lines >> cmd + /"
   ]
  },
  {
   "cell_type": "markdown",
   "metadata": {},
   "source": [
    "# Setup"
   ]
  },
  {
   "cell_type": "code",
   "execution_count": null,
   "metadata": {
    "collapsed": true
   },
   "outputs": [],
   "source": [
    "# Import the necessary dependencies for os.path.join()\n",
    "import os\n",
    "import csv"
   ]
  },
  {
   "cell_type": "code",
   "execution_count": null,
   "metadata": {
    "collapsed": true
   },
   "outputs": [],
   "source": [
    "# Set csv file path for data and store in a variable\n",
    "csv_path = os.path.join('data','budget_data.csv')"
   ]
  },
  {
   "cell_type": "code",
   "execution_count": null,
   "metadata": {
    "collapsed": true
   },
   "outputs": [],
   "source": [
    "# Set txt file path for output deliverable and store in a variable\n",
    "output_file = os.path.join('budget_analysis.txt')\n",
    "\n",
    "# changed file name from 'budget_analysis to output_file\n",
    "# create solved file to put .py and jup notebook in?"
   ]
  },
  {
   "cell_type": "markdown",
   "metadata": {},
   "source": [
    "# Exploration"
   ]
  },
  {
   "cell_type": "code",
   "execution_count": null,
   "metadata": {},
   "outputs": [],
   "source": [
    "# YOUR CODE HERE\n",
    "# Open and read the csv file\n",
    "# with open(csv_path, newline = '') as csv_file:\n",
    "#     csv_reader = csv.reader(csv_file, delimiter = ',')\n",
    "    \n",
    "#     # skip header\n",
    "#     next(csv_reader)\n",
    "    \n",
    "#     # view contents\n",
    "#     for rows in csv_reader:\n",
    "#         print(rows)\n",
    "        "
   ]
  },
  {
   "cell_type": "markdown",
   "metadata": {},
   "source": [
    "# Analysis"
   ]
  },
  {
   "cell_type": "code",
   "execution_count": null,
   "metadata": {},
   "outputs": [],
   "source": [
    "# Create empty lists\n",
    "date = []\n",
    "profit_loss = []\n",
    " \n",
    "# Open and read the csv file\n",
    "with open(csv_path, newline='') as csv_file:\n",
    "\n",
    "     # Store contents in a variable called csv_reader\n",
    "    csv_reader = csv.reader(csv_file, delimiter=',') \n",
    "\n",
    "    # Skip header\n",
    "    next(csv_reader)  \n",
    "\n",
    "    # Iterate through the rows\n",
    "    for row in csv_reader: \n",
    "\n",
    "        # Append\n",
    "        date.append(row[0])\n",
    "        profit_loss.append(int(row[1]))\n"
   ]
  },
  {
   "cell_type": "code",
   "execution_count": null,
   "metadata": {},
   "outputs": [],
   "source": [
    "# 1. The total number of months included in the dataset.\n",
    "total_months = len(date)        \n",
    "\n",
    "# TEST PRINT HERE\n",
    "print(f'Total Months: {total_months}')\n"
   ]
  },
  {
   "cell_type": "code",
   "execution_count": null,
   "metadata": {},
   "outputs": [],
   "source": [
    "# 2. The total net amount of \"Profit/Losses\" over the entire period\n",
    "net_profit = sum(profit_loss)\n",
    "\n",
    "# TEST PRINT HERE\n",
    "print(f'Total: ${net_profit}')\n"
   ]
  },
  {
   "cell_type": "code",
   "execution_count": null,
   "metadata": {},
   "outputs": [],
   "source": [
    "# 3. The average change in \"Profit/Losses\" between months over the entire period\n",
    "# YOUR CODE HERE\n",
    "# average_change = -2315.12\n",
    "\n",
    "# loop through list ; find change from 1 mo. to the next ; then avg the results\n",
    "# monthly_change = \n",
    "\n",
    "# calculate average change:\n",
    "average_change = sum(monthly_change)/total_months\n",
    "\n",
    "# TEST PRINT HERE\n",
    "print(f'Average Change: ${average_change}')"
   ]
  },
  {
   "cell_type": "code",
   "execution_count": null,
   "metadata": {},
   "outputs": [],
   "source": [
    "# 4. The greatest increase in profits (date and amount) over the entire period\n",
    "# YOUR CODE HERE\n",
    "#greatest_increase_date = 'Feb-2012'\n",
    "#greatest_increase_amount = 1926159\n",
    "\n",
    "max_change = max(monthly_change)\n",
    "max_index = monthly_change.index(max_revenue_change)\n",
    "max_date = dates(max_index)\n",
    "\n",
    "# TEST PRINT HERE\n",
    "print(f'Greatest Increase in Profits: {greatest_increase_date} (${greatest_increase_amount})')"
   ]
  },
  {
   "cell_type": "code",
   "execution_count": null,
   "metadata": {},
   "outputs": [],
   "source": [
    "# 5. The greatest decrease in losses (date and amount) over the entire period\n",
    "# YOUR CODE HERE\n",
    "#greatest_decrease_date = 'Sep-2013'\n",
    "#greatest_decrease_amount = -2196167\n",
    "\n",
    "min_revenue_change = min(monthly_change)\n",
    "min_index = monthly_change.idex(min_revenue_change)\n",
    "min_date = dates(min_index)\n",
    "\n",
    "\n",
    "# TEST PRINT HERE\n",
    "print(f'Greatest Decrease in Profits: {greatest_decrease_date} (${greatest_decrease_amount})')"
   ]
  },
  {
   "cell_type": "code",
   "execution_count": null,
   "metadata": {},
   "outputs": [],
   "source": [
    "# Summarize the results and store in a variable called budget_summary\n",
    "# YOUR CODE HERE\n",
    "# use \\n\\ for new lines\n",
    "# use an f-string to accept all data types without conversion\n",
    "\n",
    "# budget_summary =\n",
    "#         'Financial Analysis'\\n\\\n",
    "#         '----------------------------'\\n\\\n",
    "#         # OR ('-'*28)\n",
    "#         'Total Months: '86\\n\\\n",
    "#         'Total: $'38382578\\n\\\n",
    "#         'Average  Change: $'-2315.12\\n\\\n",
    "#         'Greatest Increase in Profits: 'Feb-2012' ($'1926159')'\\n\\\n",
    "#         'Greatest Decrease in Profits: 'Sep-2013' ($'-2196167')'\n",
    "\n",
    "# __________\n",
    "#STARTER CODE w/ DR:\n",
    "#86, etc. = placeholders for test...\n",
    "# total_months = 86\n",
    "# total_revenue = 38382578\n",
    "# avg_change = 2315.12\n",
    "# max_profit_date = Feb-2012\n",
    "# min_profit_date = Sep-2013\n",
    "# max_profit_amount = 1926159\n",
    "# min_profit_amount = -2196167\n",
    "\n",
    "budget_summary = (\n",
    "    f'Total Months: {total_months}\\n\\\n",
    "    Total: ${total_revenue}\\n\\\n",
    "    Average Change: {avg_change}')\n",
    "\n",
    "# TEST PRINT HERE\n",
    "print(budget_summary)"
   ]
  },
  {
   "cell_type": "markdown",
   "metadata": {},
   "source": [
    "# Presentation"
   ]
  },
  {
   "cell_type": "code",
   "execution_count": null,
   "metadata": {},
   "outputs": [],
   "source": [
    "# Print the analysis to the terminal\n",
    "# YOUR CODE HERE\n",
    "print(budget_summary)"
   ]
  },
  {
   "cell_type": "code",
   "execution_count": null,
   "metadata": {
    "collapsed": true
   },
   "outputs": [],
   "source": [
    "# Export the analysis in a text file\n",
    "# YOUR CODE HERE\n",
    "with open(budget_analysis,'w') as txt_file:\n",
    "    txt_file.write(budget_summary)"
   ]
  }
 ],
 "metadata": {
  "kernelspec": {
   "display_name": "Python [conda env:pythondata]",
   "language": "python",
   "name": "conda-env-pythondata-py"
  },
  "language_info": {
   "codemirror_mode": {
    "name": "ipython",
    "version": 3
   },
   "file_extension": ".py",
   "mimetype": "text/x-python",
   "name": "python",
   "nbconvert_exporter": "python",
   "pygments_lexer": "ipython3",
   "version": "3.6.7"
  }
 },
 "nbformat": 4,
 "nbformat_minor": 2
}
