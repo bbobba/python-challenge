{
 "cells": [
  {
   "cell_type": "markdown",
   "metadata": {},
   "source": [
    "# PYTHON CHALLENGE: PyBank\n",
    "\n",
    "Goal:\n",
    "Create a Python script for analyzing company financial records.\n",
    " \n",
    "Dataset:\n",
    "Company financial data stored in a csv called budget_data.csv.\n",
    "The dataset includes two columns: 'Date' and 'Profit/Losses' \n",
    "\n",
    "Calculate:\n",
    "1. The total number of months included in the dataset\n",
    "2. The total net amount of \"Profit/Losses\" over the entire period\n",
    "3. The average change in \"Profit/Losses\" between months over the entire period\n",
    "4. The greatest increase in profits (date and amount) over the entire period\n",
    "5. The greatest decrease in losses (date and amount) over the entire period\n",
    "\n",
    "Deliverables:\n",
    "* Print the analysis to the terminal\n",
    "* Export a text file with the results\n",
    "\n",
    "Documentation:\n",
    "* budget_data = csv file path for data set (update this path if the name and/or location of the data set changes)\n",
    "* budget_analysis = text file path for final analysis deliverable (update this path according to the desired name and location of the new text file deliverable)\n",
    "\n",
    "* total_months = the total number of months included in the dataset\n",
    "* <net_amount> = the total net amount of \"Profit/Losses\" over the entire period\n",
    "* <average_change> = the average change in \"Profit/Losses\" between months over the entire period\n",
    "* <greatest_increase> = the greatest increase in profits (date and amount) over the entire period\n",
    "* <greaatest_decrease> = the greatest decrease in losses (date and amount) over the entire period\n",
    "\n",
    "* budget_summary = summary of results to be printed to the terminal and exported in a text file\n"
   ]
  },
  {
   "cell_type": "markdown",
   "metadata": {},
   "source": [
    "# TA Q's:\n",
    "* store final analysis in a variable (see last cell in Analysis section)... then use that variable for the final deliverables... e.g. print(budget_analysis)\n",
    "* also create file path for text file deliverable (like the data csv? if so, where is the best place to declare the variable? At top w/ data path, right?\n",
    "* best practice to include file type in path variable name?\n",
    "* test code - leave in final script / comments?\n",
    "* exploration code - \"\"\n",
    "* ok to also submit jupyter notebook (along with .py, .txt files?)\n",
    "* include instructions and documentation in the script? or just in a READ.me file?\n",
    "* use \\n for new lines instead of print() for each line..."
   ]
  },
  {
   "cell_type": "markdown",
   "metadata": {},
   "source": [
    "# Setup"
   ]
  },
  {
   "cell_type": "code",
   "execution_count": 2,
   "metadata": {},
   "outputs": [],
   "source": [
    "# Import the necessary dependencies for os.path.join()\n",
    "import os\n",
    "import csv"
   ]
  },
  {
   "cell_type": "code",
   "execution_count": 3,
   "metadata": {},
   "outputs": [],
   "source": [
    "# Set csv file path for data and store in a variable\n",
    "# YOUR CODE HERE\n",
    "budget_data = os.path.join('data','budget_data.csv')"
   ]
  },
  {
   "cell_type": "code",
   "execution_count": 4,
   "metadata": {},
   "outputs": [],
   "source": [
    "# Set txt file path for deliverable and store in a variable\n",
    "# YOUR CODE HERE\n",
    "budget_analysis = os.path.join('budget_analysis.txt')"
   ]
  },
  {
   "cell_type": "markdown",
   "metadata": {},
   "source": [
    "# Exploration"
   ]
  },
  {
   "cell_type": "code",
   "execution_count": null,
   "metadata": {},
   "outputs": [],
   "source": [
    "# Open and read the csv file\n",
    "# YOUR CODE HERE"
   ]
  },
  {
   "cell_type": "markdown",
   "metadata": {},
   "source": [
    "# Analysis"
   ]
  },
  {
   "cell_type": "code",
   "execution_count": null,
   "metadata": {},
   "outputs": [],
   "source": [
    "# 1. The total number of months included in the dataset\n",
    "# YOUR CODE HERE"
   ]
  },
  {
   "cell_type": "code",
   "execution_count": null,
   "metadata": {},
   "outputs": [],
   "source": [
    "# 2. The total net amount of \"Profit/Losses\" over the entire period\n",
    "# YOUR CODE HERE"
   ]
  },
  {
   "cell_type": "code",
   "execution_count": null,
   "metadata": {},
   "outputs": [],
   "source": [
    "# 3. The average change in \"Profit/Losses\" between months over the entire period\n",
    "# YOUR CODE HERE"
   ]
  },
  {
   "cell_type": "code",
   "execution_count": null,
   "metadata": {},
   "outputs": [],
   "source": [
    "# 4. The greatest increase in profits (date and amount) over the entire period\n",
    "# YOUR CODE HERE"
   ]
  },
  {
   "cell_type": "code",
   "execution_count": null,
   "metadata": {},
   "outputs": [],
   "source": [
    "# 5. The greatest decrease in losses (date and amount) over the entire period\n",
    "# YOUR CODE HERE"
   ]
  },
  {
   "cell_type": "code",
   "execution_count": null,
   "metadata": {},
   "outputs": [],
   "source": [
    "# Summarize the results and store in a variable called budget_summary\n",
    "# YOUR CODE HERE\n",
    "# use \\n for new lines\n",
    "# use f\n",
    "budget_summary =\n",
    "    print(\n",
    "        'Financial Analysis'\n",
    "        '----------------------------'\n",
    "        # OR ('-'*28)\n",
    "        'Total Months: '86\n",
    "        'Total: '$38382578\n",
    "        'Average  Change: '$-2315.12\n",
    "        'Greatest Increase in Profits: 'Feb-2012 ($1926159)\n",
    "        'Greatest Decrease in Profits: 'Sep-2013 ($-2196167)\n",
    "    )"
   ]
  },
  {
   "cell_type": "markdown",
   "metadata": {},
   "source": [
    "# Presentation"
   ]
  },
  {
   "cell_type": "code",
   "execution_count": null,
   "metadata": {},
   "outputs": [],
   "source": [
    "# Print the analysis to the terminal\n",
    "# YOUR CODE HERE\n",
    "print(budget_summary)"
   ]
  },
  {
   "cell_type": "code",
   "execution_count": null,
   "metadata": {},
   "outputs": [],
   "source": [
    "# Export the analysis in a text file\n",
    "# YOUR CODE HERE\n",
    "with open(budget_analysis,'w') as txt_file:\n",
    "    txt_file.write(budget_summary)"
   ]
  }
 ],
 "metadata": {
  "kernelspec": {
   "display_name": "Python 3",
   "language": "python",
   "name": "python3"
  },
  "language_info": {
   "codemirror_mode": {
    "name": "ipython",
    "version": 3
   },
   "file_extension": ".py",
   "mimetype": "text/x-python",
   "name": "python",
   "nbconvert_exporter": "python",
   "pygments_lexer": "ipython3",
   "version": "3.6.7"
  }
 },
 "nbformat": 4,
 "nbformat_minor": 2
}
