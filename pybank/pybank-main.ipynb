{
 "cells": [
  {
   "cell_type": "markdown",
   "metadata": {},
   "source": [
    "# PYTHON CHALLENGE: PyBank\n",
    "\n",
    "Goal:\n",
    "Create a Python script for analyzing company financial records.\n",
    " \n",
    "Dataset:\n",
    "Company financial data stored in a csv called budget_data.csv.\n",
    "The dataset includes two columns: 'Date' and 'Profit/Losses' \n",
    "\n",
    "Calculate:\n",
    "1. The total number of months included in the dataset\n",
    "2. The total net amount of \"Profit/Losses\" over the entire period\n",
    "3. The average change in \"Profit/Losses\" between months over the entire period\n",
    "4. The greatest increase in profits (date and amount) over the entire period\n",
    "5. The greatest decrease in losses (date and amount) over the entire period\n",
    "\n",
    "Deliverables:\n",
    "* Print the analysis to the terminal\n",
    "* Export a text file with the results\n",
    "\n",
    "Documentation:\n",
    "* budget_data = csv file path for data set (update this path if the name and/or location of the data set changes)\n",
    "* budget_analysis = text file path for final analysis deliverable (update this path according to the desired name and location of the new text file deliverable)\n",
    "\n",
    "* total_months = the total number of months included in the dataset\n",
    "* <net_amount> = the total net amount of \"Profit/Losses\" over the entire period\n",
    "* <average_change> = the average change in \"Profit/Losses\" between months over the entire period\n",
    "* <greatest_increase> = the greatest increase in profits (date and amount) over the entire period\n",
    "* <greaatest_decrease> = the greatest decrease in losses (date and amount) over the entire period\n",
    "\n",
    "* budget_summary = summary of results to be printed to the terminal and exported in a text file\n"
   ]
  },
  {
   "cell_type": "markdown",
   "metadata": {},
   "source": [
    "# TA Q's (working list):\n",
    "**DELETE SECTION BEFORE SUBMISSION**\n",
    "* use \\n for new lines instead of print() for each line... >>>see david slack\n",
    "\n",
    "**TIPS & SHORTCUTS:\n",
    "*add # to mult lines >> cmd + /"
   ]
  },
  {
   "cell_type": "markdown",
   "metadata": {},
   "source": [
    "# Setup"
   ]
  },
  {
   "cell_type": "code",
   "execution_count": 17,
   "metadata": {},
   "outputs": [],
   "source": [
    "# Import the necessary dependencies for os.path.join()\n",
    "import os\n",
    "import csv"
   ]
  },
  {
   "cell_type": "code",
   "execution_count": 18,
   "metadata": {},
   "outputs": [],
   "source": [
    "# Set csv file path for data and store in a variable\n",
    "# YOUR CODE HERE\n",
    "budget_data = os.path.join('data','budget_data.csv')"
   ]
  },
  {
   "cell_type": "code",
   "execution_count": 19,
   "metadata": {},
   "outputs": [],
   "source": [
    "# Set txt file path for deliverable and store in a variable\n",
    "# YOUR CODE HERE\n",
    "budget_analysis = os.path.join('budget_analysis.txt')"
   ]
  },
  {
   "cell_type": "markdown",
   "metadata": {},
   "source": [
    "# Exploration"
   ]
  },
  {
   "cell_type": "code",
   "execution_count": 20,
   "metadata": {},
   "outputs": [],
   "source": [
    "# Open and read the csv file\n",
    "# YOUR CODE HERE"
   ]
  },
  {
   "cell_type": "markdown",
   "metadata": {},
   "source": [
    "# Analysis"
   ]
  },
  {
   "cell_type": "code",
   "execution_count": 5,
   "metadata": {},
   "outputs": [],
   "source": [
    "# 1. The total number of months included in the dataset\n",
    "# YOUR CODE HERE"
   ]
  },
  {
   "cell_type": "code",
   "execution_count": 6,
   "metadata": {},
   "outputs": [],
   "source": [
    "# 2. The total net amount of \"Profit/Losses\" over the entire period\n",
    "# YOUR CODE HERE"
   ]
  },
  {
   "cell_type": "code",
   "execution_count": 7,
   "metadata": {},
   "outputs": [],
   "source": [
    "# 3. The average change in \"Profit/Losses\" between months over the entire period\n",
    "# YOUR CODE HERE"
   ]
  },
  {
   "cell_type": "code",
   "execution_count": 8,
   "metadata": {},
   "outputs": [],
   "source": [
    "# 4. The greatest increase in profits (date and amount) over the entire period\n",
    "# YOUR CODE HERE"
   ]
  },
  {
   "cell_type": "code",
   "execution_count": 9,
   "metadata": {},
   "outputs": [],
   "source": [
    "# 5. The greatest decrease in losses (date and amount) over the entire period\n",
    "# YOUR CODE HERE"
   ]
  },
  {
   "cell_type": "code",
   "execution_count": 16,
   "metadata": {},
   "outputs": [
    {
     "ename": "SyntaxError",
     "evalue": "invalid syntax (<ipython-input-16-8519c9c71128>, line 5)",
     "output_type": "error",
     "traceback": [
      "\u001b[0;36m  File \u001b[0;32m\"<ipython-input-16-8519c9c71128>\"\u001b[0;36m, line \u001b[0;32m5\u001b[0m\n\u001b[0;31m    budget_summary =\u001b[0m\n\u001b[0m                    ^\u001b[0m\n\u001b[0;31mSyntaxError\u001b[0m\u001b[0;31m:\u001b[0m invalid syntax\n"
     ]
    }
   ],
   "source": [
    "# Summarize the results and store in a variable called budget_summary\n",
    "# YOUR CODE HERE\n",
    "# use \\n\\ for new lines\n",
    "# use f'\n",
    "budget_summary =\n",
    "        'Financial Analysis'\\n\\\n",
    "        '----------------------------'\\n\\\n",
    "        # OR ('-'*28)\n",
    "        'Total Months: '86\\n\\\n",
    "        'Total: $'38382578\\n\\\n",
    "        'Average  Change: $'-2315.12\\n\\\n",
    "        'Greatest Increase in Profits: 'Feb-2012' ($'1926159')'\\n\\\n",
    "        'Greatest Decrease in Profits: 'Sep-2013' ($'-2196167')'\n",
    "# __________\n",
    "#STARTER CODE w/ DR:\n",
    "#86, etc. = placeholders for test...\n",
    "total_months = 86\n",
    "total_revenue = 38382578\n",
    "avg_change = 2315.12\n",
    "max_profit_date = Feb-2012\n",
    "min_profit_date = Sep-2013\n",
    "max_profit_amount = 1926159\n",
    "min_profit_amount = -2196167\n",
    "\n",
    "budget_summary = f”Total Months: {total_months}\\n\\\n",
    "Total: ${total}\\n\\\n",
    "Average Change: {avg_chg}”\n"
   ]
  },
  {
   "cell_type": "markdown",
   "metadata": {},
   "source": [
    "# Presentation"
   ]
  },
  {
   "cell_type": "code",
   "execution_count": null,
   "metadata": {},
   "outputs": [],
   "source": [
    "# Print the analysis to the terminal\n",
    "# YOUR CODE HERE\n",
    "print(budget_summary)"
   ]
  },
  {
   "cell_type": "code",
   "execution_count": null,
   "metadata": {},
   "outputs": [],
   "source": [
    "# Export the analysis in a text file\n",
    "# YOUR CODE HERE\n",
    "with open(budget_analysis,'w') as txt_file:\n",
    "    txt_file.write(budget_summary)"
   ]
  }
 ],
 "metadata": {
  "kernelspec": {
   "display_name": "Python 3",
   "language": "python",
   "name": "python3"
  },
  "language_info": {
   "codemirror_mode": {
    "name": "ipython",
    "version": 3
   },
   "file_extension": ".py",
   "mimetype": "text/x-python",
   "name": "python",
   "nbconvert_exporter": "python",
   "pygments_lexer": "ipython3",
   "version": "3.6.7"
  }
 },
 "nbformat": 4,
 "nbformat_minor": 2
}
