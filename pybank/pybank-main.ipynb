{
 "cells": [
  {
   "cell_type": "markdown",
   "metadata": {},
   "source": [
    "# PYTHON CHALLENGE: PyBank\n",
    "\n",
    "#### Overview:\n",
    "This Python script analyzes a set of company financial records.\n",
    "\n",
    "#### Dataset:\n",
    "* Company financial data stored in a csv called budget_data.csv.\n",
    "\n",
    "#### Deliverable:\n",
    "Python script that...\n",
    "1. Calculates:\n",
    ">* The total number of months included in the dataset\n",
    ">* The total net amount of \"Profit/Losses\" over the entire period\n",
    ">* The average change in \"Profit/Losses\" between months over the entire period\n",
    ">* The greatest increase in profits (date and amount) over the entire period\n",
    ">* The greatest decrease in losses (date and amount) over the entire period\n",
    "2. Prints the analysis to the terminal\n",
    "3. Exports results in a text file\n",
    "\n",
    "\n",
    "\n",
    "#### Assumptions:\n",
    "* The dataset is complete and clean (i.e. no nulls, missing values or duplicate records)\n",
    "* The data is sorted chronologically by month ('date')\n",
    "* Financial figures are in USD ('profit/loss')\n",
    "\n",
    "#### Documentation:\n",
    "* **csv_path** = csv file path for data set (update this path if the name and/or location of the data set changes)\n",
    "\n",
    "* **output_file** = text file path for final analysis (update this path according to the desired name and location of the new text file)\n",
    "\n",
    "* **total_months** = the total number of months included in the dataset\n",
    "\n",
    "* **net_profit** = the total net amount of \"Profit/Losses\" over the entire period\n",
    "\n",
    "* **average_change** = the average change in \"Profit/Losses\" between months over the entire period\n",
    "\n",
    "* **max_change** = the greatest increase in profits (dollar amount) over the entire period\n",
    "\n",
    "* **max_date** = the month in which the greatest increase in profits occured over the entire period\n",
    "\n",
    "* **min_change** = the greatest decrease in losses (dollar amount) over the entire period\n",
    "\n",
    "* **min_date** = the month in which the greatest decrease in losses occured over the entire period\n",
    "\n",
    "* **budget_summary** = summary of results to be printed to the terminal and exported in a text file\n"
   ]
  },
  {
   "cell_type": "markdown",
   "metadata": {},
   "source": [
    "# Analysis"
   ]
  },
  {
   "cell_type": "markdown",
   "metadata": {},
   "source": [
    "#### Setup"
   ]
  },
  {
   "cell_type": "code",
   "execution_count": 1,
   "metadata": {},
   "outputs": [],
   "source": [
    "# Import the necessary dependencies for os.path.join()\n",
    "import os\n",
    "import csv\n",
    "\n",
    "# Set csv path for data file and store in a variable called csv_path\n",
    "csv_path = os.path.join('data','budget_data.csv')\n",
    "\n",
    "# Set txt path for output file and store in a variable called output_file\n",
    "output_file = os.path.join('budget_analysis.txt')\n"
   ]
  },
  {
   "cell_type": "code",
   "execution_count": 2,
   "metadata": {},
   "outputs": [],
   "source": [
    "# Create empty lists\n",
    "dates = []\n",
    "profit_loss = []\n",
    "change = []\n",
    " \n",
    "# Open and read the csv file\n",
    "with open(csv_path, newline='') as csv_file:\n",
    "\n",
    "     # Store contents in a variable called csv_reader\n",
    "    csv_reader = csv.reader(csv_file, delimiter=',') \n",
    "\n",
    "    # Skip header\n",
    "    next(csv_reader)\n",
    "\n",
    "    # Iterate through the rows\n",
    "    for row in csv_reader: \n",
    "\n",
    "        # Append\n",
    "        dates.append(row[0])\n",
    "        profit_loss.append(int(row[1]))"
   ]
  },
  {
   "cell_type": "markdown",
   "metadata": {},
   "source": [
    "#### Calculate the total number of months included in the dataset"
   ]
  },
  {
   "cell_type": "code",
   "execution_count": 11,
   "metadata": {},
   "outputs": [],
   "source": [
    "#use the len() function to return the number of items in the dates list\n",
    "total_months = len(dates)        \n",
    "\n",
    "# TEST PRINT:\n",
    "# print(f'Total Months: {total_months}')"
   ]
  },
  {
   "cell_type": "markdown",
   "metadata": {},
   "source": [
    "#### Calculate the total net amount of \"Profit/Losses\" over the entire period"
   ]
  },
  {
   "cell_type": "code",
   "execution_count": 4,
   "metadata": {},
   "outputs": [],
   "source": [
    "net_profit = sum(profit_loss)\n",
    "\n",
    "# TEST PRINT:\n",
    "# print(f'Total: ${net_profit}')"
   ]
  },
  {
   "cell_type": "markdown",
   "metadata": {},
   "source": [
    "#### Calculate the average change in \"Profit/Losses\" between months over the entire period"
   ]
  },
  {
   "cell_type": "code",
   "execution_count": 5,
   "metadata": {},
   "outputs": [],
   "source": [
    "for i in range(1, len(profit_loss)):\n",
    "    change.append(profit_loss[i] - profit_loss[i-1])\n",
    "\n",
    "average_change = round(sum(change)/len(change),2)\n",
    "    \n",
    "# TEST PRINT:\n",
    "# print(f'Average Change: ${average_change}')"
   ]
  },
  {
   "cell_type": "markdown",
   "metadata": {},
   "source": [
    "#### Calculate the greatest increase in profits (date and amount) over the entire period"
   ]
  },
  {
   "cell_type": "code",
   "execution_count": 6,
   "metadata": {},
   "outputs": [],
   "source": [
    "max_change = max(change)\n",
    "max_index = change.index(max_change)\n",
    "max_date = dates[max_index + 1]\n",
    "\n",
    "# TEST PRINT:\n",
    "# print(f'Greatest Increase in Profits: {max_date} (${max_change})')"
   ]
  },
  {
   "cell_type": "markdown",
   "metadata": {},
   "source": [
    "#### Calculate the greatest decrease in losses (date and amount) over the entire period"
   ]
  },
  {
   "cell_type": "code",
   "execution_count": 7,
   "metadata": {},
   "outputs": [],
   "source": [
    "min_change = min(change)\n",
    "min_index = change.index(min_change)\n",
    "min_date = dates[min_index + 1]\n",
    "\n",
    "# TEST PRINT:\n",
    "# print(f'Greatest Decrease in Profits: {min_date} (${min_change})')"
   ]
  },
  {
   "cell_type": "markdown",
   "metadata": {},
   "source": [
    "#### Output"
   ]
  },
  {
   "cell_type": "code",
   "execution_count": 8,
   "metadata": {},
   "outputs": [],
   "source": [
    "# Summarize results and store in a variable called budget_summary\n",
    "budget_summary = (f'\\n\\\n",
    "    Financial Analysis\\n\\\n",
    "    ----------------------------\\n\\\n",
    "    Total Months: {total_months}\\n\\\n",
    "    Total: ${net_profit}\\n\\\n",
    "    Average Change: ${average_change}\\n\\\n",
    "    Greatest Increase in Profits: {max_date} (${max_change})\\n\\\n",
    "    Greatest Decrease in Profits: {min_date} (${min_change})')"
   ]
  },
  {
   "cell_type": "code",
   "execution_count": 9,
   "metadata": {},
   "outputs": [
    {
     "name": "stdout",
     "output_type": "stream",
     "text": [
      "\n",
      "    Financial Analysis\n",
      "    ----------------------------\n",
      "    Total Months: 86\n",
      "    Total: $38382578\n",
      "    Average Change: $-2315.12\n",
      "    Greatest Increase in Profits: Feb-2012 ($1926159)\n",
      "    Greatest Decrease in Profits: Sep-2013 ($-2196167)\n"
     ]
    }
   ],
   "source": [
    "# Print analysis to the terminal\n",
    "print(budget_summary)"
   ]
  },
  {
   "cell_type": "code",
   "execution_count": 10,
   "metadata": {},
   "outputs": [],
   "source": [
    "# Export analysis in a text file\n",
    "with open(output_file,'w') as txt_file:\n",
    "    txt_file.write(budget_summary)"
   ]
  }
 ],
 "metadata": {
  "kernelspec": {
   "display_name": "Python 3",
   "language": "python",
   "name": "python3"
  },
  "language_info": {
   "codemirror_mode": {
    "name": "ipython",
    "version": 3
   },
   "file_extension": ".py",
   "mimetype": "text/x-python",
   "name": "python",
   "nbconvert_exporter": "python",
   "pygments_lexer": "ipython3",
   "version": "3.6.7"
  }
 },
 "nbformat": 4,
 "nbformat_minor": 2
}
