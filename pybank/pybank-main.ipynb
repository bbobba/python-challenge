{
 "cells": [
  {
   "cell_type": "markdown",
   "metadata": {},
   "source": [
    "# PYTHON CHALLENGE: PyBank\n",
    "\n",
    "Goal:\n",
    "Create a Python script for analyzing company financial records.\n",
    " \n",
    "Dataset:\n",
    "Company financial data stored in a csv called budget_data.csv.\n",
    "The dataset includes two columns: 'Date' and 'Profit/Losses' \n",
    "\n",
    "Calculate:\n",
    "1. The total number of months included in the dataset\n",
    "2. The total net amount of \"Profit/Losses\" over the entire period\n",
    "3. The average change in \"Profit/Losses\" between months over the entire period\n",
    "4. The greatest increase in profits (date and amount) over the entire period\n",
    "5. The greatest decrease in losses (date and amount) over the entire period\n",
    "\n",
    "Deliverables:\n",
    "* Print the analysis to the terminal\n",
    "* Export a text file with the results\n",
    "\n",
    "Documentation:\n",
    "* **csv_path** = csv file path for data set (update this path if the name and/or location of the data set changes)\n",
    "\n",
    "* **budget_analysis** = text file path for final analysis deliverable (update this path according to the desired name and location of the new text file deliverable) ** *NOTE: rename output_file ... output_path.... etc?* **\n",
    "\n",
    "* **total_months** = the total number of months included in the dataset\n",
    "\n",
    "* **net_profit** = the total net amount of \"Profit/Losses\" over the entire period\n",
    "\n",
    "* **average_change** = the average change in \"Profit/Losses\" between months over the entire period\n",
    "\n",
    "* **<greatest_increase>** = the greatest increase in profits (date and amount) over the entire period\n",
    "\n",
    "* **<greatest_decrease>** = the greatest decrease in losses (date) over the entire period\n",
    "\n",
    "* **budget_summary** = summary of results to be printed to the terminal and exported in a text file\n"
   ]
  },
  {
   "cell_type": "markdown",
   "metadata": {},
   "source": [
    "# TA Q's (working list):\n",
    "**DELETE SECTION BEFORE SUBMISSION**\n",
    "* sort by month chronologically? to ensure accuracy of monthly_change\n",
    "* change monthly to dates in variable names?\n",
    "\n",
    "**TIPS & SHORTCUTS:\n",
    "* add # to mult lines >> cmd + /"
   ]
  },
  {
   "cell_type": "markdown",
   "metadata": {},
   "source": [
    "# Setup"
   ]
  },
  {
   "cell_type": "code",
   "execution_count": 1,
   "metadata": {
    "collapsed": true
   },
   "outputs": [],
   "source": [
    "# Import the necessary dependencies for os.path.join()\n",
    "import os\n",
    "import csv\n",
    "\n",
    "# Set csv path for data file and store in a variable\n",
    "csv_path = os.path.join('data','budget_data.csv')\n",
    "\n",
    "# Set txt path for output file and store in a variable\n",
    "output_file = os.path.join('deliverables','budget_analysis.txt')\n"
   ]
  },
  {
   "cell_type": "markdown",
   "metadata": {},
   "source": [
    "# Exploration\n",
    "\n",
    "#### MARKOUT OR DELETE THIS SECTION FOR FINAL VERSION"
   ]
  },
  {
   "cell_type": "code",
   "execution_count": 2,
   "metadata": {},
   "outputs": [
    {
     "name": "stdout",
     "output_type": "stream",
     "text": [
      "['Jan-2010', '867884']\n",
      "['Feb-2010', '984655']\n",
      "['Mar-2010', '322013']\n",
      "['Apr-2010', '-69417']\n",
      "['May-2010', '310503']\n",
      "['Jun-2010', '522857']\n",
      "['Jul-2010', '1033096']\n",
      "['Aug-2010', '604885']\n",
      "['Sep-2010', '-216386']\n",
      "['Oct-2010', '477532']\n",
      "['Nov-2010', '893810']\n",
      "['Dec-2010', '-80353']\n",
      "['Jan-2011', '779806']\n",
      "['Feb-2011', '-335203']\n",
      "['Mar-2011', '697845']\n",
      "['Apr-2011', '793163']\n",
      "['May-2011', '485070']\n",
      "['Jun-2011', '584122']\n",
      "['Jul-2011', '62729']\n",
      "['Aug-2011', '668179']\n",
      "['Sep-2011', '899906']\n",
      "['Oct-2011', '834719']\n",
      "['Nov-2011', '132003']\n",
      "['Dec-2011', '309978']\n",
      "['Jan-2012', '-755566']\n",
      "['Feb-2012', '1170593']\n",
      "['Mar-2012', '252788']\n",
      "['Apr-2012', '1151518']\n",
      "['May-2012', '817256']\n",
      "['Jun-2012', '570757']\n",
      "['Jul-2012', '506702']\n",
      "['Aug-2012', '-1022534']\n",
      "['Sep-2012', '475062']\n",
      "['Oct-2012', '779976']\n",
      "['Nov-2012', '144175']\n",
      "['Dec-2012', '542494']\n",
      "['Jan-2013', '359333']\n",
      "['Feb-2013', '321469']\n",
      "['Mar-2013', '67780']\n",
      "['Apr-2013', '471435']\n",
      "['May-2013', '565603']\n",
      "['Jun-2013', '872480']\n",
      "['Jul-2013', '789480']\n",
      "['Aug-2013', '999942']\n",
      "['Sep-2013', '-1196225']\n",
      "['Oct-2013', '268997']\n",
      "['Nov-2013', '-687986']\n",
      "['Dec-2013', '1150461']\n",
      "['Jan-2014', '682458']\n",
      "['Feb-2014', '617856']\n",
      "['Mar-2014', '824098']\n",
      "['Apr-2014', '581943']\n",
      "['May-2014', '132864']\n",
      "['Jun-2014', '448062']\n",
      "['Jul-2014', '689161']\n",
      "['Aug-2014', '800701']\n",
      "['Sep-2014', '1166643']\n",
      "['Oct-2014', '947333']\n",
      "['Nov-2014', '578668']\n",
      "['Dec-2014', '988505']\n",
      "['Jan-2015', '1139715']\n",
      "['Feb-2015', '1029471']\n",
      "['Mar-2015', '687533']\n",
      "['Apr-2015', '-524626']\n",
      "['May-2015', '158620']\n",
      "['Jun-2015', '87795']\n",
      "['Jul-2015', '423389']\n",
      "['Aug-2015', '840723']\n",
      "['Sep-2015', '568529']\n",
      "['Oct-2015', '332067']\n",
      "['Nov-2015', '989499']\n",
      "['Dec-2015', '778237']\n",
      "['Jan-2016', '650000']\n",
      "['Feb-2016', '-1100387']\n",
      "['Mar-2016', '-174946']\n",
      "['Apr-2016', '757143']\n",
      "['May-2016', '445709']\n",
      "['Jun-2016', '712961']\n",
      "['Jul-2016', '-1163797']\n",
      "['Aug-2016', '569899']\n",
      "['Sep-2016', '768450']\n",
      "['Oct-2016', '102685']\n",
      "['Nov-2016', '795914']\n",
      "['Dec-2016', '60988']\n",
      "['Jan-2017', '138230']\n",
      "['Feb-2017', '671099']\n"
     ]
    }
   ],
   "source": [
    "#Open and read the csv file\n",
    "with open(csv_path, newline = '') as csv_file:\n",
    "    csv_reader = csv.reader(csv_file, delimiter = ',')\n",
    "    \n",
    "    # skip header\n",
    "    next(csv_reader)\n",
    "    \n",
    "    # view contents\n",
    "    for rows in csv_reader:\n",
    "        print(rows)\n",
    "        "
   ]
  },
  {
   "cell_type": "markdown",
   "metadata": {},
   "source": [
    "# Analysis"
   ]
  },
  {
   "cell_type": "code",
   "execution_count": 3,
   "metadata": {},
   "outputs": [],
   "source": [
    "# Create empty lists\n",
    "dates = []\n",
    "profit_loss = []\n",
    " \n",
    "# Open and read the csv file\n",
    "with open(csv_path, newline='') as csv_file:\n",
    "\n",
    "     # Store contents in a variable called csv_reader\n",
    "    csv_reader = csv.reader(csv_file, delimiter=',') \n",
    "\n",
    "    # Skip header\n",
    "    next(csv_reader)  \n",
    "\n",
    "    # Iterate through the rows\n",
    "    for row in csv_reader: \n",
    "\n",
    "        # Append\n",
    "        dates.append(row[0])\n",
    "        profit_loss.append(int(row[1]))"
   ]
  },
  {
   "cell_type": "markdown",
   "metadata": {},
   "source": [
    "# 1. The total number of months included in the dataset."
   ]
  },
  {
   "cell_type": "code",
   "execution_count": 4,
   "metadata": {},
   "outputs": [
    {
     "name": "stdout",
     "output_type": "stream",
     "text": [
      "Total Months: 86\n"
     ]
    }
   ],
   "source": [
    "# view contents of dates list\n",
    "# for rows in dates:\n",
    "#     print(rows)\n",
    "\n",
    "# calculate total number of months\n",
    "total_months = len(dates)        \n",
    "\n",
    "# TEST PRINT HERE\n",
    "print(f'Total Months: {total_months}')\n"
   ]
  },
  {
   "cell_type": "markdown",
   "metadata": {},
   "source": [
    "# 2. The total net amount of \"Profit/Losses\" over the entire period"
   ]
  },
  {
   "cell_type": "code",
   "execution_count": 5,
   "metadata": {},
   "outputs": [
    {
     "name": "stdout",
     "output_type": "stream",
     "text": [
      "Total: $38382578\n"
     ]
    }
   ],
   "source": [
    "# view contents of profit_loss list\n",
    "# for rows in profit_loss:\n",
    "#     print(rows)\n",
    "\n",
    "# Calculate net amount of profits and losses over the entire period\n",
    "net_profit = sum(profit_loss)\n",
    "\n",
    "# TEST PRINT HERE\n",
    "print(f'Total: ${net_profit}')\n"
   ]
  },
  {
   "cell_type": "code",
   "execution_count": 6,
   "metadata": {},
   "outputs": [
    {
     "name": "stdout",
     "output_type": "stream",
     "text": [
      "116771 Jan-2010\n",
      "-662642 Feb-2010\n",
      "-391430 Mar-2010\n",
      "379920 Apr-2010\n",
      "212354 May-2010\n",
      "510239 Jun-2010\n",
      "-428211 Jul-2010\n",
      "-821271 Aug-2010\n",
      "693918 Sep-2010\n",
      "416278 Oct-2010\n",
      "-974163 Nov-2010\n",
      "860159 Dec-2010\n",
      "-1115009 Jan-2011\n",
      "1033048 Feb-2011\n",
      "95318 Mar-2011\n",
      "-308093 Apr-2011\n",
      "99052 May-2011\n",
      "-521393 Jun-2011\n",
      "605450 Jul-2011\n",
      "231727 Aug-2011\n",
      "-65187 Sep-2011\n",
      "-702716 Oct-2011\n",
      "177975 Nov-2011\n",
      "-1065544 Dec-2011\n",
      "1926159 Jan-2012\n",
      "-917805 Feb-2012\n",
      "898730 Mar-2012\n",
      "-334262 Apr-2012\n",
      "-246499 May-2012\n",
      "-64055 Jun-2012\n",
      "-1529236 Jul-2012\n",
      "1497596 Aug-2012\n",
      "304914 Sep-2012\n",
      "-635801 Oct-2012\n",
      "398319 Nov-2012\n",
      "-183161 Dec-2012\n",
      "-37864 Jan-2013\n",
      "-253689 Feb-2013\n",
      "403655 Mar-2013\n",
      "94168 Apr-2013\n",
      "306877 May-2013\n",
      "-83000 Jun-2013\n",
      "210462 Jul-2013\n",
      "-2196167 Aug-2013\n",
      "1465222 Sep-2013\n",
      "-956983 Oct-2013\n",
      "1838447 Nov-2013\n",
      "-468003 Dec-2013\n",
      "-64602 Jan-2014\n",
      "206242 Feb-2014\n",
      "-242155 Mar-2014\n",
      "-449079 Apr-2014\n",
      "315198 May-2014\n",
      "241099 Jun-2014\n",
      "111540 Jul-2014\n",
      "365942 Aug-2014\n",
      "-219310 Sep-2014\n",
      "-368665 Oct-2014\n",
      "409837 Nov-2014\n",
      "151210 Dec-2014\n",
      "-110244 Jan-2015\n",
      "-341938 Feb-2015\n",
      "-1212159 Mar-2015\n",
      "683246 Apr-2015\n",
      "-70825 May-2015\n",
      "335594 Jun-2015\n",
      "417334 Jul-2015\n",
      "-272194 Aug-2015\n",
      "-236462 Sep-2015\n",
      "657432 Oct-2015\n",
      "-211262 Nov-2015\n",
      "-128237 Dec-2015\n",
      "-1750387 Jan-2016\n",
      "925441 Feb-2016\n",
      "932089 Mar-2016\n",
      "-311434 Apr-2016\n",
      "267252 May-2016\n",
      "-1876758 Jun-2016\n",
      "1733696 Jul-2016\n",
      "198551 Aug-2016\n",
      "-665765 Sep-2016\n",
      "693229 Oct-2016\n",
      "-734926 Nov-2016\n",
      "77242 Dec-2016\n",
      "532869 Jan-2017\n"
     ]
    },
    {
     "ename": "IndexError",
     "evalue": "list index out of range",
     "output_type": "error",
     "traceback": [
      "\u001b[0;31m---------------------------------------------------------------------------\u001b[0m",
      "\u001b[0;31mIndexError\u001b[0m                                Traceback (most recent call last)",
      "\u001b[0;32m<ipython-input-6-51eb1fc2bc30>\u001b[0m in \u001b[0;36m<module>\u001b[0;34m\u001b[0m\n\u001b[1;32m      4\u001b[0m \u001b[0;34m\u001b[0m\u001b[0m\n\u001b[1;32m      5\u001b[0m \u001b[0;32mfor\u001b[0m \u001b[0mi\u001b[0m\u001b[0;34m,\u001b[0m \u001b[0mdate\u001b[0m \u001b[0;32min\u001b[0m \u001b[0menumerate\u001b[0m\u001b[0;34m(\u001b[0m\u001b[0mdates\u001b[0m\u001b[0;34m)\u001b[0m\u001b[0;34m:\u001b[0m\u001b[0;34m\u001b[0m\u001b[0;34m\u001b[0m\u001b[0m\n\u001b[0;32m----> 6\u001b[0;31m     \u001b[0mchange\u001b[0m \u001b[0;34m=\u001b[0m \u001b[0mprofit_loss\u001b[0m\u001b[0;34m[\u001b[0m\u001b[0mi\u001b[0m\u001b[0;34m+\u001b[0m\u001b[0;36m1\u001b[0m\u001b[0;34m]\u001b[0m \u001b[0;34m-\u001b[0m \u001b[0mprofit_loss\u001b[0m\u001b[0;34m[\u001b[0m\u001b[0mi\u001b[0m\u001b[0;34m]\u001b[0m\u001b[0;34m\u001b[0m\u001b[0;34m\u001b[0m\u001b[0m\n\u001b[0m\u001b[1;32m      7\u001b[0m     \u001b[0mprint\u001b[0m\u001b[0;34m(\u001b[0m\u001b[0;34m'{} {}'\u001b[0m\u001b[0;34m.\u001b[0m\u001b[0mformat\u001b[0m\u001b[0;34m(\u001b[0m\u001b[0mchange\u001b[0m\u001b[0;34m,\u001b[0m \u001b[0mdate\u001b[0m\u001b[0;34m)\u001b[0m\u001b[0;34m)\u001b[0m\u001b[0;34m\u001b[0m\u001b[0;34m\u001b[0m\u001b[0m\n\u001b[1;32m      8\u001b[0m \u001b[0;34m\u001b[0m\u001b[0m\n",
      "\u001b[0;31mIndexError\u001b[0m: list index out of range"
     ]
    }
   ],
   "source": [
    "# 3. The average change in \"Profit/Losses\" between months over the entire period\n",
    "# YOUR CODE HERE\n",
    "# average_change = -2315.12\n",
    "\n",
    "for i, date in enumerate(dates):\n",
    "    change = profit_loss[i+1] - profit_loss[i]\n",
    "    print('{} {}'.format(change, date))\n",
    "\n",
    "# TEST PRINT HERE\n",
    "print(f'Average Change: ${average_change}')"
   ]
  },
  {
   "cell_type": "code",
   "execution_count": null,
   "metadata": {},
   "outputs": [],
   "source": [
    "# 4. The greatest increase in profits (date and amount) over the entire period\n",
    "# YOUR CODE HERE\n",
    "#greatest_increase_date = 'Feb-2012'\n",
    "#greatest_increase_amount = 1926159\n",
    "\n",
    "max_change = max(monthly_change)\n",
    "max_index = monthly_change.index(max_revenue_change)\n",
    "max_date = dates(max_index)\n",
    "\n",
    "# TEST PRINT HERE\n",
    "print(f'Greatest Increase in Profits: {greatest_increase_date} (${greatest_increase_amount})')"
   ]
  },
  {
   "cell_type": "code",
   "execution_count": null,
   "metadata": {},
   "outputs": [],
   "source": [
    "# 5. The greatest decrease in losses (date and amount) over the entire period\n",
    "# YOUR CODE HERE\n",
    "#greatest_decrease_date = 'Sep-2013'\n",
    "#greatest_decrease_amount = -2196167\n",
    "\n",
    "min_revenue_change = min(monthly_change)\n",
    "min_index = monthly_change.idex(min_revenue_change)\n",
    "min_date = dates(min_index)\n",
    "\n",
    "\n",
    "# TEST PRINT HERE\n",
    "print(f'Greatest Decrease in Profits: {greatest_decrease_date} (${greatest_decrease_amount})')"
   ]
  },
  {
   "cell_type": "code",
   "execution_count": null,
   "metadata": {},
   "outputs": [],
   "source": [
    "# Summarize the results and store in a variable called budget_summary\n",
    "# YOUR CODE HERE\n",
    "# use \\n\\ for new lines\n",
    "# use an f-string to accept all data types without conversion\n",
    "\n",
    "# budget_summary =\n",
    "#         'Financial Analysis'\\n\\\n",
    "#         '----------------------------'\\n\\\n",
    "#         # OR ('-'*28)\n",
    "#         'Total Months: '86\\n\\\n",
    "#         'Total: $'38382578\\n\\\n",
    "#         'Average  Change: $'-2315.12\\n\\\n",
    "#         'Greatest Increase in Profits: 'Feb-2012' ($'1926159')'\\n\\\n",
    "#         'Greatest Decrease in Profits: 'Sep-2013' ($'-2196167')'\n",
    "\n",
    "# __________\n",
    "#STARTER CODE w/ DR:\n",
    "#86, etc. = placeholders for test...\n",
    "# total_months = 86\n",
    "# total_revenue = 38382578\n",
    "# avg_change = 2315.12\n",
    "# max_profit_date = Feb-2012\n",
    "# min_profit_date = Sep-2013\n",
    "# max_profit_amount = 1926159\n",
    "# min_profit_amount = -2196167\n",
    "\n",
    "budget_summary = (\n",
    "    f'Total Months: {total_months}\\n\\\n",
    "    Total: ${total_revenue}\\n\\\n",
    "    Average Change: {avg_change}')\n",
    "\n",
    "# TEST PRINT HERE\n",
    "print(budget_summary)"
   ]
  },
  {
   "cell_type": "markdown",
   "metadata": {},
   "source": [
    "# Presentation"
   ]
  },
  {
   "cell_type": "code",
   "execution_count": null,
   "metadata": {},
   "outputs": [],
   "source": [
    "# Print the analysis to the terminal\n",
    "# YOUR CODE HERE\n",
    "print(budget_summary)"
   ]
  },
  {
   "cell_type": "code",
   "execution_count": null,
   "metadata": {
    "collapsed": true
   },
   "outputs": [],
   "source": [
    "# Export the analysis in a text file\n",
    "# YOUR CODE HERE\n",
    "with open(budget_analysis,'w') as txt_file:\n",
    "    txt_file.write(budget_summary)"
   ]
  }
 ],
 "metadata": {
  "kernelspec": {
   "display_name": "Python [conda env:pythondata]",
   "language": "python",
   "name": "conda-env-pythondata-py"
  },
  "language_info": {
   "codemirror_mode": {
    "name": "ipython",
    "version": 3
   },
   "file_extension": ".py",
   "mimetype": "text/x-python",
   "name": "python",
   "nbconvert_exporter": "python",
   "pygments_lexer": "ipython3",
   "version": "3.6.7"
  }
 },
 "nbformat": 4,
 "nbformat_minor": 2
}
