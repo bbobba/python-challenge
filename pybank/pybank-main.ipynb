{
 "cells": [
  {
   "cell_type": "markdown",
   "metadata": {},
   "source": [
    "# PYTHON CHALLENGE: PyBank\n",
    "\n",
    "Goal:\n",
    "Create a Python script for analyzing company financial records.\n",
    " \n",
    "Dataset:\n",
    "Company financial data stored in a csv called budget_data.csv.\n",
    "The dataset includes two columns: 'Date' and 'Profit/Losses' \n",
    "\n",
    "Calculate:\n",
    "1. The total number of months included in the dataset\n",
    "2. The total net amount of \"Profit/Losses\" over the entire period\n",
    "3. The average change in \"Profit/Losses\" between months over the entire period\n",
    "4. The greatest increase in profits (date and amount) over the entire period\n",
    "5. The greatest decrease in losses (date and amount) over the entire period\n",
    "\n",
    "Deliverables:\n",
    "* Print the analysis to the terminal\n",
    "* Export a text file with the results\n",
    "\n",
    "Documentation:\n",
    "* **csv_path** = csv file path for data set (update this path if the name and/or location of the data set changes)\n",
    "\n",
    "* **budget_analysis** = text file path for final analysis deliverable (update this path according to the desired name and location of the new text file deliverable) ** *NOTE: rename output_file ... output_path.... etc?* **\n",
    "\n",
    "* **total_months** = the total number of months included in the dataset\n",
    "\n",
    "* **net_profit** = the total net amount of \"Profit/Losses\" over the entire period\n",
    "\n",
    "* **average_change** = the average change in \"Profit/Losses\" between months over the entire period\n",
    "\n",
    "* **<greatest_increase>** = the greatest increase in profits (date and amount) over the entire period\n",
    "\n",
    "* **<greatest_decrease>** = the greatest decrease in losses (date) over the entire period\n",
    "\n",
    "* **budget_summary** = summary of results to be printed to the terminal and exported in a text file\n"
   ]
  },
  {
   "cell_type": "markdown",
   "metadata": {},
   "source": [
    "# TA Q's (working list):\n",
    "**DELETE SECTION BEFORE SUBMISSION**\n",
    "* sort by month chronologically? to ensure accuracy of monthly_change\n",
    "* change monthly to dates in variable names?\n",
    "\n",
    "**TIPS & SHORTCUTS:\n",
    "* add # to mult lines >> cmd + /"
   ]
  },
  {
   "cell_type": "markdown",
   "metadata": {},
   "source": [
    "# Setup"
   ]
  },
  {
   "cell_type": "code",
   "execution_count": 1,
   "metadata": {},
   "outputs": [],
   "source": [
    "# Import the necessary dependencies for os.path.join()\n",
    "import os\n",
    "import csv\n",
    "\n",
    "# Set csv path for data file and store in a variable\n",
    "csv_path = os.path.join('data','budget_data.csv')\n",
    "\n",
    "# Set txt path for output file and store in a variable\n",
    "output_file = os.path.join('deliverables','budget_analysis.txt')\n"
   ]
  },
  {
   "cell_type": "markdown",
   "metadata": {},
   "source": [
    "# Exploration\n",
    "\n",
    "#### MARKOUT OR DELETE THIS SECTION FOR FINAL VERSION"
   ]
  },
  {
   "cell_type": "code",
   "execution_count": 3,
   "metadata": {},
   "outputs": [],
   "source": [
    "# #Open and read the csv file\n",
    "# with open(csv_path, newline = '') as csv_file:\n",
    "#     csv_reader = csv.reader(csv_file, delimiter = ',')\n",
    "    \n",
    "#     # skip header\n",
    "#     #next(csv_reader)\n",
    "\n",
    "#     # view contents\n",
    "#     for rows in csv_reader:\n",
    "#         print(rows)\n",
    "        "
   ]
  },
  {
   "cell_type": "markdown",
   "metadata": {},
   "source": [
    "# Analysis"
   ]
  },
  {
   "cell_type": "code",
   "execution_count": 4,
   "metadata": {},
   "outputs": [],
   "source": [
    "# Create empty lists\n",
    "dates = []\n",
    "profit_loss = []\n",
    "#change = []\n",
    " \n",
    "# Open and read the csv file\n",
    "with open(csv_path, newline='') as csv_file:\n",
    "\n",
    "     # Store contents in a variable called csv_reader\n",
    "    csv_reader = csv.reader(csv_file, delimiter=',') \n",
    "\n",
    "    # Skip header\n",
    "    next(csv_reader)\n",
    "\n",
    "    # Iterate through the rows\n",
    "    for row in csv_reader: \n",
    "\n",
    "        # Append\n",
    "        dates.append(row[0])\n",
    "        profit_loss.append(int(row[1]))"
   ]
  },
  {
   "cell_type": "markdown",
   "metadata": {},
   "source": [
    "## 1. The total number of months included in the dataset."
   ]
  },
  {
   "cell_type": "code",
   "execution_count": 5,
   "metadata": {},
   "outputs": [
    {
     "name": "stdout",
     "output_type": "stream",
     "text": [
      "Total Months: 86\n"
     ]
    }
   ],
   "source": [
    "# view contents of dates list\n",
    "# for rows in dates:\n",
    "#     print(rows)\n",
    "\n",
    "# calculate total number of months\n",
    "total_months = len(dates)        \n",
    "\n",
    "# TEST PRINT HERE\n",
    "print(f'Total Months: {total_months}')\n"
   ]
  },
  {
   "cell_type": "markdown",
   "metadata": {},
   "source": [
    "## 2. The total net amount of \"Profit/Losses\" over the entire period"
   ]
  },
  {
   "cell_type": "code",
   "execution_count": 6,
   "metadata": {},
   "outputs": [
    {
     "name": "stdout",
     "output_type": "stream",
     "text": [
      "Total: $38382578\n"
     ]
    }
   ],
   "source": [
    "# view contents of profit_loss list\n",
    "# for rows in profit_loss:\n",
    "#     print(rows)\n",
    "\n",
    "# Calculate net amount of profits and losses over the entire period\n",
    "net_profit = sum(profit_loss)\n",
    "\n",
    "# TEST PRINT HERE\n",
    "print(f'Total: ${net_profit}')\n"
   ]
  },
  {
   "cell_type": "markdown",
   "metadata": {},
   "source": [
    "## 3. The average change in \"Profit/Losses\" between months over the entire period"
   ]
  },
  {
   "cell_type": "code",
   "execution_count": 9,
   "metadata": {},
   "outputs": [
    {
     "name": "stdout",
     "output_type": "stream",
     "text": [
      "Average Change: $-2315.1176470588234\n"
     ]
    }
   ],
   "source": [
    "# average_change = -2315.12\n",
    "change = []\n",
    "\n",
    "for i in range(1, len(profit_loss)):\n",
    "    change.append(profit_loss[i] - profit_loss[i-1])\n",
    "\n",
    "average_change = sum(change)/len(change)\n",
    "    \n",
    "# TEST PRINT HERE\n",
    "print(f'Average Change: ${average_change}')\n"
   ]
  },
  {
   "cell_type": "markdown",
   "metadata": {},
   "source": [
    "## 4. The greatest increase in profits (date and amount) over the entire period"
   ]
  },
  {
   "cell_type": "code",
   "execution_count": 10,
   "metadata": {},
   "outputs": [
    {
     "name": "stdout",
     "output_type": "stream",
     "text": [
      "Greatest Increase in Profits: Feb-2012 ($1926159)\n"
     ]
    }
   ],
   "source": [
    "#greatest_increase_date = 'Feb-2012'\n",
    "#greatest_increase_amount = 1926159\n",
    "\n",
    "max_change = max(change)\n",
    "max_index = change.index(max_change)\n",
    "max_date = dates[max_index + 1]\n",
    "\n",
    "# TEST PRINT HERE\n",
    "print(f'Greatest Increase in Profits: {max_date} (${max_change})')"
   ]
  },
  {
   "cell_type": "markdown",
   "metadata": {},
   "source": [
    "## 5. The greatest decrease in losses (date and amount) over the entire period"
   ]
  },
  {
   "cell_type": "code",
   "execution_count": 11,
   "metadata": {},
   "outputs": [
    {
     "name": "stdout",
     "output_type": "stream",
     "text": [
      "Greatest Decrease in Profits: Sep-2013 ($-2196167)\n"
     ]
    }
   ],
   "source": [
    "#greatest_decrease_date = 'Sep-2013'\n",
    "#greatest_decrease_amount = -2196167\n",
    "\n",
    "min_change = min(change)\n",
    "min_index = change.index(min_change)\n",
    "min_date = dates[min_index + 1]\n",
    "\n",
    "# TEST PRINT HERE\n",
    "print(f'Greatest Decrease in Profits: {min_date} (${min_change})')"
   ]
  },
  {
   "cell_type": "code",
   "execution_count": null,
   "metadata": {},
   "outputs": [],
   "source": [
    "# Summarize the results and store in a variable called budget_summary\n",
    "# YOUR CODE HERE\n",
    "# use \\n\\ for new lines\n",
    "# use an f-string to accept all data types without conversion\n",
    "\n",
    "# budget_summary =\n",
    "#         'Financial Analysis'\\n\\\n",
    "#         '----------------------------'\\n\\\n",
    "#         # OR ('-'*28)\n",
    "#         'Total Months: '86\\n\\\n",
    "#         'Total: $'38382578\\n\\\n",
    "#         'Average  Change: $'-2315.12\\n\\\n",
    "#         'Greatest Increase in Profits: 'Feb-2012' ($'1926159')'\\n\\\n",
    "#         'Greatest Decrease in Profits: 'Sep-2013' ($'-2196167')'\n",
    "\n",
    "# __________\n",
    "#STARTER CODE w/ DR:\n",
    "#86, etc. = placeholders for test...\n",
    "# total_months = 86\n",
    "# total_revenue = 38382578\n",
    "# avg_change = 2315.12\n",
    "# max_profit_date = Feb-2012\n",
    "# min_profit_date = Sep-2013\n",
    "# max_profit_amount = 1926159\n",
    "# min_profit_amount = -2196167\n",
    "\n",
    "budget_summary = (\n",
    "    f'Total Months: {total_months}\\n\\\n",
    "    Total: ${total_revenue}\\n\\\n",
    "    Average Change: {avg_change}')\n",
    "\n",
    "# TEST PRINT HERE\n",
    "print(budget_summary)"
   ]
  },
  {
   "cell_type": "markdown",
   "metadata": {},
   "source": [
    "# Presentation"
   ]
  },
  {
   "cell_type": "code",
   "execution_count": null,
   "metadata": {},
   "outputs": [],
   "source": [
    "# Print the analysis to the terminal\n",
    "# YOUR CODE HERE\n",
    "print(budget_summary)"
   ]
  },
  {
   "cell_type": "code",
   "execution_count": null,
   "metadata": {},
   "outputs": [],
   "source": [
    "# Export the analysis in a text file\n",
    "# YOUR CODE HERE\n",
    "with open(budget_analysis,'w') as txt_file:\n",
    "    txt_file.write(budget_summary)"
   ]
  }
 ],
 "metadata": {
  "kernelspec": {
   "display_name": "Python 3",
   "language": "python",
   "name": "python3"
  },
  "language_info": {
   "codemirror_mode": {
    "name": "ipython",
    "version": 3
   },
   "file_extension": ".py",
   "mimetype": "text/x-python",
   "name": "python",
   "nbconvert_exporter": "python",
   "pygments_lexer": "ipython3",
   "version": "3.6.7"
  }
 },
 "nbformat": 4,
 "nbformat_minor": 2
}
